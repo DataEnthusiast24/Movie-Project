{
 "cells": [
  {
   "cell_type": "code",
   "execution_count": 2,
   "id": "b952175a-effd-4507-aa57-2eedbb46e7eb",
   "metadata": {},
   "outputs": [],
   "source": [
    "%load_ext sql"
   ]
  },
  {
   "cell_type": "code",
   "execution_count": 3,
   "id": "1b5f1318-9b11-45bf-8049-ea413539a709",
   "metadata": {},
   "outputs": [
    {
     "data": {
      "text/plain": [
       "'Connected: @TMDB.db'"
      ]
     },
     "execution_count": 3,
     "metadata": {},
     "output_type": "execute_result"
    }
   ],
   "source": [
    "%sql sqlite:///TMDB.db"
   ]
  },
  {
   "cell_type": "code",
   "execution_count": 8,
   "id": "2c2fd9d5",
   "metadata": {},
   "outputs": [
    {
     "name": "stdout",
     "output_type": "stream",
     "text": [
      " * sqlite:///TMDB.db\n",
      "Done.\n",
      "0        iso_639_1\n",
      "1    language_name\n",
      "Name: name, dtype: object\n"
     ]
    }
   ],
   "source": [
    "# Assume you want to check the column names of a table named 'movies'\n",
    "table_name = 'languages'\n",
    "\n",
    "# Query to get the column names of the specified table\n",
    "columns = %sql PRAGMA table_info($table_name);\n",
    "columns_df = columns.DataFrame()\n",
    "\n",
    "# Print the column names\n",
    "print(columns_df['name'])"
   ]
  },
  {
   "cell_type": "markdown",
   "id": "cf052872",
   "metadata": {},
   "source": [
    "### How many movies do not have English as their original language? (2 marks)"
   ]
  },
  {
   "cell_type": "code",
   "execution_count": 31,
   "id": "92424851",
   "metadata": {},
   "outputs": [
    {
     "name": "stdout",
     "output_type": "stream",
     "text": [
      " * sqlite:///TMDB.db\n",
      "Done.\n"
     ]
    },
    {
     "data": {
      "text/html": [
       "<table>\n",
       "    <thead>\n",
       "        <tr>\n",
       "            <th>non_english_movie_count</th>\n",
       "        </tr>\n",
       "    </thead>\n",
       "    <tbody>\n",
       "        <tr>\n",
       "            <td>298</td>\n",
       "        </tr>\n",
       "    </tbody>\n",
       "</table>"
      ],
      "text/plain": [
       "[(298,)]"
      ]
     },
     "execution_count": 31,
     "metadata": {},
     "output_type": "execute_result"
    }
   ],
   "source": [
    "%%sql\n",
    "SELECT COUNT(*) AS non_english_movie_count\n",
    "FROM movies\n",
    "WHERE original_language != 'en';\n"
   ]
  },
  {
   "cell_type": "markdown",
   "id": "cb7ef72d",
   "metadata": {},
   "source": [
    "### How many movies in the database were produced by Pixar Animation Studios? (3 marks)"
   ]
  },
  {
   "cell_type": "code",
   "execution_count": 61,
   "id": "ffd86ea6",
   "metadata": {},
   "outputs": [
    {
     "name": "stdout",
     "output_type": "stream",
     "text": [
      " * sqlite:///TMDB.db\n",
      "Done.\n"
     ]
    },
    {
     "data": {
      "text/html": [
       "<table>\n",
       "    <thead>\n",
       "        <tr>\n",
       "            <th>COUNT(*)</th>\n",
       "        </tr>\n",
       "    </thead>\n",
       "    <tbody>\n",
       "        <tr>\n",
       "            <td>16</td>\n",
       "        </tr>\n",
       "    </tbody>\n",
       "</table>"
      ],
      "text/plain": [
       "[(16,)]"
      ]
     },
     "execution_count": 61,
     "metadata": {},
     "output_type": "execute_result"
    }
   ],
   "source": [
    "%%sql\n",
    "SELECT COUNT(*)\n",
    "FROM movies\n",
    "JOIN \n",
    "productioncompanymap\n",
    "ON\n",
    "movies.movie_id = productioncompanymap.movie_id\n",
    "JOIN \n",
    "productioncompanies\n",
    "ON\n",
    "productioncompanies.production_company_id = productioncompanymap.production_company_id\n",
    "WHERE production_company_name = 'Pixar Animation Studios'\n"
   ]
  },
  {
   "cell_type": "markdown",
   "id": "345983cb",
   "metadata": {},
   "source": [
    "### How many movies are in the database that are both a Romance and a Comedy? (4 marks)"
   ]
  },
  {
   "cell_type": "code",
   "execution_count": 60,
   "id": "fe6a933d",
   "metadata": {},
   "outputs": [
    {
     "name": "stdout",
     "output_type": "stream",
     "text": [
      " * sqlite:///TMDB.db\n",
      "Done.\n"
     ]
    },
    {
     "data": {
      "text/html": [
       "<table>\n",
       "    <thead>\n",
       "        <tr>\n",
       "            <th>COUNT(*)</th>\n",
       "        </tr>\n",
       "    </thead>\n",
       "    <tbody>\n",
       "        <tr>\n",
       "            <td>484</td>\n",
       "        </tr>\n",
       "    </tbody>\n",
       "</table>"
      ],
      "text/plain": [
       "[(484,)]"
      ]
     },
     "execution_count": 60,
     "metadata": {},
     "output_type": "execute_result"
    }
   ],
   "source": [
    "%%sql\n",
    "SELECT COUNT(*)\n",
    "FROM movies\n",
    "WHERE movie_id IN (\n",
    "    SELECT movie_id\n",
    "    FROM genremap\n",
    "    JOIN genres ON genremap.genre_id = genres.genre_id\n",
    "    WHERE genre_name = 'Romance'\n",
    ") \n",
    "AND movie_id IN (\n",
    "    SELECT movie_id\n",
    "    FROM genremap\n",
    "    JOIN genres ON genremap.genre_id = genres.genre_id\n",
    "    WHERE genre_name = 'Comedy'\n",
    ");\n"
   ]
  },
  {
   "cell_type": "markdown",
   "id": "3b2b6993",
   "metadata": {},
   "source": [
    "### What is the most popular action movie that has some German in it? (Hint: The German word for German is Deutsch) (3 marks)\n",
    "\n"
   ]
  },
  {
   "cell_type": "code",
   "execution_count": 12,
   "id": "5c2bf741-e78f-4ba0-bc0c-f1fa77a26000",
   "metadata": {},
   "outputs": [
    {
     "name": "stdout",
     "output_type": "stream",
     "text": [
      " * sqlite:///TMDB.db\n",
      "Done.\n"
     ]
    },
    {
     "data": {
      "text/html": [
       "<table>\n",
       "    <thead>\n",
       "        <tr>\n",
       "            <th>title</th>\n",
       "            <th>popularity</th>\n",
       "        </tr>\n",
       "    </thead>\n",
       "    <tbody>\n",
       "        <tr>\n",
       "            <td>Captain America: Civil War</td>\n",
       "            <td>198.372395</td>\n",
       "        </tr>\n",
       "    </tbody>\n",
       "</table>"
      ],
      "text/plain": [
       "[('Captain America: Civil War', 198.372395)]"
      ]
     },
     "execution_count": 12,
     "metadata": {},
     "output_type": "execute_result"
    }
   ],
   "source": [
    "%%sql\n",
    "SELECT title, popularity\n",
    "FROM movies\n",
    "JOIN \n",
    "    genremap \n",
    "ON \n",
    "    movies.movie_id = genremap.movie_id\n",
    "JOIN \n",
    "    genres \n",
    "ON genres.genre_id = genremap.genre_id\n",
    "JOIN \n",
    "    languagemap \n",
    "ON movies.movie_id = languagemap.movie_id\n",
    "JOIN \n",
    "    languages \n",
    "ON languages. iso_639_1 = languagemap. iso_639_1\n",
    "WHERE genres.genre_name = 'Action' \n",
    "  AND languages.language_name = 'Deutsch'\n",
    "ORDER BY popularity DESC\n",
    "LIMIT 1;"
   ]
  },
  {
   "cell_type": "code",
   "execution_count": 75,
   "id": "9f5e8f9f",
   "metadata": {},
   "outputs": [
    {
     "name": "stdout",
     "output_type": "stream",
     "text": [
      " * sqlite:///TMDB.db\n",
      "Done.\n"
     ]
    },
    {
     "data": {
      "text/html": [
       "<table>\n",
       "    <thead>\n",
       "        <tr>\n",
       "            <th>count(*)</th>\n",
       "        </tr>\n",
       "    </thead>\n",
       "    <tbody>\n",
       "        <tr>\n",
       "            <td>1</td>\n",
       "        </tr>\n",
       "    </tbody>\n",
       "</table>"
      ],
      "text/plain": [
       "[(1,)]"
      ]
     },
     "execution_count": 75,
     "metadata": {},
     "output_type": "execute_result"
    }
   ],
   "source": [
    "%%sql\n",
    "select count(*)\n",
    "from languages\n",
    "where language_name = 'Deutsch';"
   ]
  },
  {
   "cell_type": "markdown",
   "id": "44a7d3a8-9fa1-4c66-a77d-630dad8cabfa",
   "metadata": {},
   "source": [
    "### In how many movies did Tom Cruise portray the character Ethan Hunt? (3 marks)"
   ]
  },
  {
   "cell_type": "code",
   "execution_count": 76,
   "id": "322f2546-a3a1-4826-828e-1e48e1960bce",
   "metadata": {},
   "outputs": [
    {
     "name": "stdout",
     "output_type": "stream",
     "text": [
      " * sqlite:///TMDB.db\n",
      "Done.\n"
     ]
    },
    {
     "data": {
      "text/html": [
       "<table>\n",
       "    <thead>\n",
       "        <tr>\n",
       "            <th>count(*)</th>\n",
       "        </tr>\n",
       "    </thead>\n",
       "    <tbody>\n",
       "        <tr>\n",
       "            <td>5</td>\n",
       "        </tr>\n",
       "    </tbody>\n",
       "</table>"
      ],
      "text/plain": [
       "[(5,)]"
      ]
     },
     "execution_count": 76,
     "metadata": {},
     "output_type": "execute_result"
    }
   ],
   "source": [
    "%%sql\n",
    "select count(*)\n",
    "from movies\n",
    "join \n",
    "    casts\n",
    "on casts.movie_id = movies.movie_id\n",
    "join\n",
    "    actors\n",
    "on actors.actor_id = casts.actor_id\n",
    "where \n",
    "actor_name = 'Tom Cruise' and characters = 'Ethan Hunt';"
   ]
  },
  {
   "cell_type": "markdown",
   "id": "234b9dc3-0106-4e03-a3cc-14c90a54e6ab",
   "metadata": {},
   "source": [
    "### How many times was the actress Cate Blanchett nominated for an Oscar? (3 marks)"
   ]
  },
  {
   "cell_type": "code",
   "execution_count": 79,
   "id": "25290c74-8312-4f71-b235-d7a4b57483d0",
   "metadata": {},
   "outputs": [
    {
     "name": "stdout",
     "output_type": "stream",
     "text": [
      " * sqlite:///TMDB.db\n",
      "Done.\n"
     ]
    },
    {
     "data": {
      "text/html": [
       "<table>\n",
       "    <thead>\n",
       "        <tr>\n",
       "            <th>count(*)</th>\n",
       "        </tr>\n",
       "    </thead>\n",
       "    <tbody>\n",
       "        <tr>\n",
       "            <td>7</td>\n",
       "        </tr>\n",
       "    </tbody>\n",
       "</table>"
      ],
      "text/plain": [
       "[(7,)]"
      ]
     },
     "execution_count": 79,
     "metadata": {},
     "output_type": "execute_result"
    }
   ],
   "source": [
    "%%sql\n",
    "select count(*)\n",
    "from oscars\n",
    "where name = 'Cate Blanchett';"
   ]
  },
  {
   "cell_type": "markdown",
   "id": "e5135099-5b5c-4df9-aa6d-07b9ad83d9bb",
   "metadata": {},
   "source": [
    "### How many movies contains at least one of the official South African Languages, Afrikaans or Zulu? (3 marks)"
   ]
  },
  {
   "cell_type": "code",
   "execution_count": 74,
   "id": "167aef71-a189-4aed-8b3e-f2c424cdfd08",
   "metadata": {},
   "outputs": [
    {
     "name": "stdout",
     "output_type": "stream",
     "text": [
      " * sqlite:///TMDB.db\n",
      "Done.\n"
     ]
    },
    {
     "data": {
      "text/html": [
       "<table>\n",
       "    <thead>\n",
       "        <tr>\n",
       "            <th>COUNT(DISTINCT movies.movie_id)</th>\n",
       "        </tr>\n",
       "    </thead>\n",
       "    <tbody>\n",
       "        <tr>\n",
       "            <td>8</td>\n",
       "        </tr>\n",
       "    </tbody>\n",
       "</table>"
      ],
      "text/plain": [
       "[(8,)]"
      ]
     },
     "execution_count": 74,
     "metadata": {},
     "output_type": "execute_result"
    }
   ],
   "source": [
    "%%sql\n",
    "SELECT COUNT(DISTINCT movies.movie_id)\n",
    "FROM movies\n",
    "JOIN \n",
    "    languagemap \n",
    "ON movies.movie_id = languagemap.movie_id\n",
    "JOIN \n",
    "    languages \n",
    "ON languages.iso_639_1 = languagemap.iso_639_1\n",
    "WHERE languages.language_name LIKE \"%Afrikaans%\"\n",
    "   OR languages.language_name LIKE \"%Zulu%\";\n"
   ]
  },
  {
   "cell_type": "code",
   "execution_count": null,
   "id": "8741abf3-cb54-4a3a-8970-7737b5896207",
   "metadata": {},
   "outputs": [],
   "source": []
  }
 ],
 "metadata": {
  "kernelspec": {
   "display_name": "Python 3 (ipykernel)",
   "language": "python",
   "name": "python3"
  },
  "language_info": {
   "codemirror_mode": {
    "name": "ipython",
    "version": 3
   },
   "file_extension": ".py",
   "mimetype": "text/x-python",
   "name": "python",
   "nbconvert_exporter": "python",
   "pygments_lexer": "ipython3",
   "version": "3.8.18"
  }
 },
 "nbformat": 4,
 "nbformat_minor": 5
}
